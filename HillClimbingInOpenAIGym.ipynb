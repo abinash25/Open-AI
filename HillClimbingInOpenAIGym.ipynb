{
 "cells": [
  {
   "cell_type": "code",
   "execution_count": 1,
   "metadata": {},
   "outputs": [],
   "source": [
    "import gym\n",
    "import random\n",
    "import numpy as np"
   ]
  },
  {
   "cell_type": "code",
   "execution_count": 2,
   "metadata": {},
   "outputs": [
    {
     "name": "stdout",
     "output_type": "stream",
     "text": [
      "Observation space: Box(-3.4028234663852886e+38, 3.4028234663852886e+38, (4,), float32)\n",
      "Action space: Discrete(2)\n"
     ]
    }
   ],
   "source": [
    "env_name = \"CartPole-v0\"\n",
    "env = gym.make(env_name)\n",
    "print(\"Observation space:\", env.observation_space)\n",
    "print(\"Action space:\", env.action_space)"
   ]
  },
  {
   "cell_type": "code",
   "execution_count": 3,
   "metadata": {},
   "outputs": [],
   "source": [
    "class HillClimbingAgent():\n",
    "    def __init__(self, env):\n",
    "        self.state_dim = env.observation_space.shape\n",
    "        self.action_size = env.action_space.n\n",
    "        self.build_model()\n",
    "        \n",
    "    def build_model(self):\n",
    "        self.weights = 1e-4*np.random.rand(*self.state_dim, self.action_size)\n",
    "        self.best_reward = -np.Inf\n",
    "        self.best_weights = np.copy(self.weights)\n",
    "        self.noise_scale = 1e-2\n",
    "        \n",
    "    def get_action(self, state):\n",
    "        p = np.dot(state, self.weights)\n",
    "        action = np.argmax(p)\n",
    "        return action\n",
    "    \n",
    "    def update_model(self, reward):\n",
    "        if reward >= self.best_reward:\n",
    "            self.best_reward = reward\n",
    "            self.best_weights = np.copy(self.weights)\n",
    "            self.noise_scale = max(self.noise_scale/2, 1e-3)\n",
    "        else:\n",
    "            self.noise_scale = min(self.noise_scale*2, 2)\n",
    "            \n",
    "        self.weights = self.best_weights + self.noise_scale * np.random.rand(*self.state_dim, self.action_size)"
   ]
  },
  {
   "cell_type": "code",
   "execution_count": null,
   "metadata": {},
   "outputs": [
    {
     "name": "stdout",
     "output_type": "stream",
     "text": [
      "Episode: 0, total_reward: 191.00\n",
      "Episode: 1, total_reward: 109.00\n",
      "Episode: 2, total_reward: 10.00\n",
      "Episode: 3, total_reward: 9.00\n",
      "Episode: 4, total_reward: 10.00\n",
      "Episode: 5, total_reward: 10.00\n",
      "Episode: 6, total_reward: 9.00\n",
      "Episode: 7, total_reward: 9.00\n",
      "Episode: 8, total_reward: 9.00\n",
      "Episode: 9, total_reward: 140.00\n",
      "Episode: 10, total_reward: 10.00\n",
      "Episode: 11, total_reward: 11.00\n",
      "Episode: 12, total_reward: 156.00\n",
      "Episode: 13, total_reward: 48.00\n",
      "Episode: 14, total_reward: 147.00\n",
      "Episode: 15, total_reward: 9.00\n",
      "Episode: 16, total_reward: 134.00\n",
      "Episode: 17, total_reward: 77.00\n",
      "Episode: 18, total_reward: 10.00\n",
      "Episode: 19, total_reward: 200.00\n",
      "Episode: 20, total_reward: 200.00\n",
      "Episode: 21, total_reward: 200.00\n",
      "Episode: 22, total_reward: 200.00\n",
      "Episode: 23, total_reward: 200.00\n",
      "Episode: 24, total_reward: 200.00\n",
      "Episode: 25, total_reward: 200.00\n",
      "Episode: 26, total_reward: 200.00\n"
     ]
    }
   ],
   "source": [
    "agent = HillClimbingAgent(env)\n",
    "num_episodes = 100\n",
    "\n",
    "for ep in range(num_episodes):\n",
    "    state = env.reset()\n",
    "    total_reward = 0\n",
    "    done = False\n",
    "    while not done:\n",
    "        action = agent.get_action(state)\n",
    "        state, reward, done, info = env.step(action)\n",
    "        env.render()\n",
    "        total_reward += reward\n",
    "        \n",
    "    agent.update_model(total_reward)\n",
    "    print(\"Episode: {}, total_reward: {:.2f}\".format(ep, total_reward))"
   ]
  },
  {
   "cell_type": "code",
   "execution_count": null,
   "metadata": {},
   "outputs": [],
   "source": []
  }
 ],
 "metadata": {
  "kernelspec": {
   "display_name": "Python 3",
   "language": "python",
   "name": "python3"
  },
  "language_info": {
   "codemirror_mode": {
    "name": "ipython",
    "version": 3
   },
   "file_extension": ".py",
   "mimetype": "text/x-python",
   "name": "python",
   "nbconvert_exporter": "python",
   "pygments_lexer": "ipython3",
   "version": "3.8.3"
  }
 },
 "nbformat": 4,
 "nbformat_minor": 2
}
